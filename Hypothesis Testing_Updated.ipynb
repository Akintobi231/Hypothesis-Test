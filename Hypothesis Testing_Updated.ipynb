{
 "cells": [
  {
   "cell_type": "code",
   "execution_count": 1,
   "id": "6597c936-f052-4af3-b64e-38f06e55f8ff",
   "metadata": {},
   "outputs": [],
   "source": [
    "import pandas as pd\n",
    "import numpy as np\n",
    "from scipy import stats\n",
    "import matplotlib.pyplot as plt\n",
    "import seaborn as sns"
   ]
  },
  {
   "cell_type": "code",
   "execution_count": 2,
   "id": "ec2508a7-c2a6-4f2d-99c7-0a906265495f",
   "metadata": {},
   "outputs": [],
   "source": [
    "df = pd.read_excel(r'/Users/mac/Downloads/drug_effectiveness_study.xlsx')"
   ]
  },
  {
   "cell_type": "code",
   "execution_count": 3,
   "id": "7f4daafa-3d7e-40b1-b2cd-642ae0b12b07",
   "metadata": {},
   "outputs": [
    {
     "data": {
      "text/html": [
       "<div>\n",
       "<style scoped>\n",
       "    .dataframe tbody tr th:only-of-type {\n",
       "        vertical-align: middle;\n",
       "    }\n",
       "\n",
       "    .dataframe tbody tr th {\n",
       "        vertical-align: top;\n",
       "    }\n",
       "\n",
       "    .dataframe thead th {\n",
       "        text-align: right;\n",
       "    }\n",
       "</style>\n",
       "<table border=\"1\" class=\"dataframe\">\n",
       "  <thead>\n",
       "    <tr style=\"text-align: right;\">\n",
       "      <th></th>\n",
       "      <th>Patient_ID</th>\n",
       "      <th>Age</th>\n",
       "      <th>Sex</th>\n",
       "      <th>Weight_kg</th>\n",
       "      <th>Drug_Brand</th>\n",
       "      <th>Pre_BP</th>\n",
       "      <th>Heart_Rate</th>\n",
       "      <th>Side_Effects_Score</th>\n",
       "      <th>Treatment_Duration_weeks</th>\n",
       "      <th>Adherence_Score</th>\n",
       "      <th>Smoker</th>\n",
       "      <th>Region</th>\n",
       "      <th>Post_BP</th>\n",
       "    </tr>\n",
       "  </thead>\n",
       "  <tbody>\n",
       "    <tr>\n",
       "      <th>0</th>\n",
       "      <td>P0001</td>\n",
       "      <td>68.0</td>\n",
       "      <td>M</td>\n",
       "      <td>77.8</td>\n",
       "      <td>B</td>\n",
       "      <td>148</td>\n",
       "      <td>79.0</td>\n",
       "      <td>2.0</td>\n",
       "      <td>12</td>\n",
       "      <td>0.89</td>\n",
       "      <td>Yes</td>\n",
       "      <td>South America</td>\n",
       "      <td>125.0</td>\n",
       "    </tr>\n",
       "    <tr>\n",
       "      <th>1</th>\n",
       "      <td>P0002</td>\n",
       "      <td>58.0</td>\n",
       "      <td>M</td>\n",
       "      <td>73.2</td>\n",
       "      <td>A</td>\n",
       "      <td>175</td>\n",
       "      <td>NaN</td>\n",
       "      <td>1.0</td>\n",
       "      <td>11</td>\n",
       "      <td>0.56</td>\n",
       "      <td>Yes</td>\n",
       "      <td>North America</td>\n",
       "      <td>159.0</td>\n",
       "    </tr>\n",
       "    <tr>\n",
       "      <th>2</th>\n",
       "      <td>P0003</td>\n",
       "      <td>44.0</td>\n",
       "      <td>M</td>\n",
       "      <td>65.3</td>\n",
       "      <td>B</td>\n",
       "      <td>158</td>\n",
       "      <td>70.0</td>\n",
       "      <td>0.0</td>\n",
       "      <td>9</td>\n",
       "      <td>0.68</td>\n",
       "      <td>Yes</td>\n",
       "      <td>South America</td>\n",
       "      <td>139.0</td>\n",
       "    </tr>\n",
       "    <tr>\n",
       "      <th>3</th>\n",
       "      <td>P0004</td>\n",
       "      <td>72.0</td>\n",
       "      <td>F</td>\n",
       "      <td>85.3</td>\n",
       "      <td>A</td>\n",
       "      <td>140</td>\n",
       "      <td>72.0</td>\n",
       "      <td>2.0</td>\n",
       "      <td>12</td>\n",
       "      <td>0.98</td>\n",
       "      <td>No</td>\n",
       "      <td>North America</td>\n",
       "      <td>126.0</td>\n",
       "    </tr>\n",
       "    <tr>\n",
       "      <th>4</th>\n",
       "      <td>P0005</td>\n",
       "      <td>37.0</td>\n",
       "      <td>M</td>\n",
       "      <td>82.8</td>\n",
       "      <td>A</td>\n",
       "      <td>149</td>\n",
       "      <td>62.0</td>\n",
       "      <td>2.0</td>\n",
       "      <td>10</td>\n",
       "      <td>0.96</td>\n",
       "      <td>Yes</td>\n",
       "      <td>Europe</td>\n",
       "      <td>136.0</td>\n",
       "    </tr>\n",
       "  </tbody>\n",
       "</table>\n",
       "</div>"
      ],
      "text/plain": [
       "  Patient_ID   Age Sex  Weight_kg Drug_Brand  Pre_BP  Heart_Rate  \\\n",
       "0      P0001  68.0   M       77.8          B     148        79.0   \n",
       "1      P0002  58.0   M       73.2          A     175         NaN   \n",
       "2      P0003  44.0   M       65.3          B     158        70.0   \n",
       "3      P0004  72.0   F       85.3          A     140        72.0   \n",
       "4      P0005  37.0   M       82.8          A     149        62.0   \n",
       "\n",
       "   Side_Effects_Score  Treatment_Duration_weeks  Adherence_Score Smoker  \\\n",
       "0                 2.0                        12             0.89    Yes   \n",
       "1                 1.0                        11             0.56    Yes   \n",
       "2                 0.0                         9             0.68    Yes   \n",
       "3                 2.0                        12             0.98     No   \n",
       "4                 2.0                        10             0.96    Yes   \n",
       "\n",
       "          Region  Post_BP  \n",
       "0  South America    125.0  \n",
       "1  North America    159.0  \n",
       "2  South America    139.0  \n",
       "3  North America    126.0  \n",
       "4         Europe    136.0  "
      ]
     },
     "execution_count": 3,
     "metadata": {},
     "output_type": "execute_result"
    }
   ],
   "source": [
    "df.head()"
   ]
  },
  {
   "cell_type": "code",
   "execution_count": 4,
   "id": "0d820638-6e35-4d1c-9953-90506c312a52",
   "metadata": {},
   "outputs": [
    {
     "data": {
      "text/plain": [
       "Patient_ID                   0\n",
       "Age                         51\n",
       "Sex                          0\n",
       "Weight_kg                   51\n",
       "Drug_Brand                   0\n",
       "Pre_BP                       0\n",
       "Heart_Rate                  51\n",
       "Side_Effects_Score          51\n",
       "Treatment_Duration_weeks     0\n",
       "Adherence_Score              0\n",
       "Smoker                       0\n",
       "Region                       0\n",
       "Post_BP                     51\n",
       "dtype: int64"
      ]
     },
     "execution_count": 4,
     "metadata": {},
     "output_type": "execute_result"
    }
   ],
   "source": [
    "df.isnull().sum()"
   ]
  },
  {
   "cell_type": "code",
   "execution_count": 5,
   "id": "987f4a30-948a-4367-a5c1-3315bf769bbc",
   "metadata": {},
   "outputs": [
    {
     "name": "stdout",
     "output_type": "stream",
     "text": [
      "<class 'pandas.core.frame.DataFrame'>\n",
      "RangeIndex: 1010 entries, 0 to 1009\n",
      "Data columns (total 13 columns):\n",
      " #   Column                    Non-Null Count  Dtype  \n",
      "---  ------                    --------------  -----  \n",
      " 0   Patient_ID                1010 non-null   object \n",
      " 1   Age                       959 non-null    float64\n",
      " 2   Sex                       1010 non-null   object \n",
      " 3   Weight_kg                 959 non-null    float64\n",
      " 4   Drug_Brand                1010 non-null   object \n",
      " 5   Pre_BP                    1010 non-null   int64  \n",
      " 6   Heart_Rate                959 non-null    float64\n",
      " 7   Side_Effects_Score        959 non-null    float64\n",
      " 8   Treatment_Duration_weeks  1010 non-null   int64  \n",
      " 9   Adherence_Score           1010 non-null   float64\n",
      " 10  Smoker                    1010 non-null   object \n",
      " 11  Region                    1010 non-null   object \n",
      " 12  Post_BP                   959 non-null    float64\n",
      "dtypes: float64(6), int64(2), object(5)\n",
      "memory usage: 102.7+ KB\n"
     ]
    }
   ],
   "source": [
    "df.info()"
   ]
  },
  {
   "cell_type": "code",
   "execution_count": 6,
   "id": "7a406a0a-e98b-4431-b183-79eaba8d4ac7",
   "metadata": {},
   "outputs": [],
   "source": [
    "df = df.dropna()"
   ]
  },
  {
   "cell_type": "code",
   "execution_count": 7,
   "id": "57dc5c50-a5e0-4c78-a802-1bb5388a5de1",
   "metadata": {},
   "outputs": [
    {
     "data": {
      "text/plain": [
       "5"
      ]
     },
     "execution_count": 7,
     "metadata": {},
     "output_type": "execute_result"
    }
   ],
   "source": [
    "df.duplicated().sum()"
   ]
  },
  {
   "cell_type": "code",
   "execution_count": 8,
   "id": "1f798840-47d0-453d-8640-a2c8e5ef110e",
   "metadata": {},
   "outputs": [],
   "source": [
    "df = df.drop_duplicates()"
   ]
  },
  {
   "cell_type": "code",
   "execution_count": 9,
   "id": "d1778d1d-7d85-4c1e-9b13-f29dcac01194",
   "metadata": {},
   "outputs": [
    {
     "data": {
      "text/plain": [
       "Patient_ID    780\n",
       "Sex             3\n",
       "Drug_Brand      4\n",
       "Smoker          3\n",
       "Region         10\n",
       "dtype: int64"
      ]
     },
     "execution_count": 9,
     "metadata": {},
     "output_type": "execute_result"
    }
   ],
   "source": [
    "df.select_dtypes('object').nunique()"
   ]
  },
  {
   "cell_type": "code",
   "execution_count": 10,
   "id": "5c91a655-9f76-4fef-92a0-a945858d4cf9",
   "metadata": {},
   "outputs": [
    {
     "data": {
      "text/plain": [
       "array(['M', 'F', 'Unknown'], dtype=object)"
      ]
     },
     "execution_count": 10,
     "metadata": {},
     "output_type": "execute_result"
    }
   ],
   "source": [
    "df['Sex'].unique()"
   ]
  },
  {
   "cell_type": "code",
   "execution_count": 11,
   "id": "8e3b6b5f-505a-4914-beb1-bf7f6633ffd8",
   "metadata": {},
   "outputs": [
    {
     "data": {
      "text/plain": [
       "Sex\n",
       "M          394\n",
       "F          368\n",
       "Unknown     19\n",
       "Name: count, dtype: int64"
      ]
     },
     "execution_count": 11,
     "metadata": {},
     "output_type": "execute_result"
    }
   ],
   "source": [
    "df['Sex'].value_counts()"
   ]
  },
  {
   "cell_type": "code",
   "execution_count": 12,
   "id": "92f66fec-5698-4599-8f16-ffd2bd106bed",
   "metadata": {},
   "outputs": [],
   "source": [
    "df = df.query(\"Sex != 'Unknown'\")"
   ]
  },
  {
   "cell_type": "code",
   "execution_count": 13,
   "id": "6ff045e9-14bc-42f5-82b8-d89da132bd53",
   "metadata": {},
   "outputs": [
    {
     "data": {
      "text/plain": [
       "Sex\n",
       "M    394\n",
       "F    368\n",
       "Name: count, dtype: int64"
      ]
     },
     "execution_count": 13,
     "metadata": {},
     "output_type": "execute_result"
    }
   ],
   "source": [
    "df['Sex'].value_counts()"
   ]
  },
  {
   "cell_type": "code",
   "execution_count": 14,
   "id": "6c1b2800-4e1e-4208-99ed-73bdad9397ea",
   "metadata": {},
   "outputs": [
    {
     "data": {
      "text/plain": [
       "Drug_Brand\n",
       "A    271\n",
       "C    254\n",
       "B    229\n",
       "D      8\n",
       "Name: count, dtype: int64"
      ]
     },
     "execution_count": 14,
     "metadata": {},
     "output_type": "execute_result"
    }
   ],
   "source": [
    "df['Drug_Brand'].value_counts()"
   ]
  },
  {
   "cell_type": "code",
   "execution_count": 15,
   "id": "d1b9a19b-6fd3-4405-b60a-17ff3212726f",
   "metadata": {},
   "outputs": [],
   "source": [
    "df = df.query(\"Drug_Brand != 'D'\")"
   ]
  },
  {
   "cell_type": "code",
   "execution_count": 16,
   "id": "97e7608d-9b9a-4028-b75f-b85479e75f62",
   "metadata": {},
   "outputs": [
    {
     "data": {
      "text/plain": [
       "Smoker\n",
       "No           532\n",
       "Yes          207\n",
       "Sometimes     15\n",
       "Name: count, dtype: int64"
      ]
     },
     "execution_count": 16,
     "metadata": {},
     "output_type": "execute_result"
    }
   ],
   "source": [
    "df['Smoker'].value_counts()"
   ]
  },
  {
   "cell_type": "code",
   "execution_count": 17,
   "id": "22111689-a56a-43a0-83be-b02111686339",
   "metadata": {
    "scrolled": true
   },
   "outputs": [
    {
     "data": {
      "text/plain": [
       "Index(['South America', 'Africa', 'Europe', 'North America', 'Asia', 'Europe ',\n",
       "       'Asia ', 'North America ', 'Africa ', 'South America '],\n",
       "      dtype='object', name='Region')"
      ]
     },
     "execution_count": 17,
     "metadata": {},
     "output_type": "execute_result"
    }
   ],
   "source": [
    "df['Region'].value_counts().index"
   ]
  },
  {
   "cell_type": "code",
   "execution_count": 18,
   "id": "e3a05bf8-14ac-433a-8cb0-07ec8a46f0dc",
   "metadata": {},
   "outputs": [],
   "source": [
    "df['Region'].value_counts().index = ['South America', 'Africa', 'Europe', 'North America', 'Asia', 'Europe',\n",
    "       'Asia', 'North America', 'Africa', 'South America']"
   ]
  },
  {
   "cell_type": "code",
   "execution_count": 19,
   "id": "035306e7-5a06-486a-8b13-4233b3930dd8",
   "metadata": {},
   "outputs": [
    {
     "data": {
      "text/plain": [
       "Region\n",
       "South America     154\n",
       "Africa            139\n",
       "Europe            136\n",
       "North America     128\n",
       "Asia              128\n",
       "Europe             22\n",
       "Asia               15\n",
       "North America      13\n",
       "Africa             12\n",
       "South America       7\n",
       "Name: count, dtype: int64"
      ]
     },
     "execution_count": 19,
     "metadata": {},
     "output_type": "execute_result"
    }
   ],
   "source": [
    "df['Region'].value_counts()"
   ]
  },
  {
   "cell_type": "code",
   "execution_count": 20,
   "id": "9b15714e-bfd9-41d5-9378-ee25f1edff3f",
   "metadata": {},
   "outputs": [],
   "source": [
    "df['Region'] = df['Region'].str.strip()"
   ]
  },
  {
   "cell_type": "code",
   "execution_count": 21,
   "id": "0fc16a52-9f9e-4e23-abf6-aee2c7a20cf6",
   "metadata": {},
   "outputs": [
    {
     "data": {
      "text/plain": [
       "Region\n",
       "South America    161\n",
       "Europe           158\n",
       "Africa           151\n",
       "Asia             143\n",
       "North America    141\n",
       "Name: count, dtype: int64"
      ]
     },
     "execution_count": 21,
     "metadata": {},
     "output_type": "execute_result"
    }
   ],
   "source": [
    "df['Region'].value_counts()"
   ]
  },
  {
   "cell_type": "code",
   "execution_count": 22,
   "id": "aed84bb2-f643-4590-a7b0-402f2404086c",
   "metadata": {},
   "outputs": [],
   "source": [
    "#Exploratory Data Analysis\n",
    "\n"
   ]
  },
  {
   "cell_type": "code",
   "execution_count": 23,
   "id": "f0f05ffe-acbc-4838-87e6-484a116a055c",
   "metadata": {},
   "outputs": [
    {
     "data": {
      "text/html": [
       "<div>\n",
       "<style scoped>\n",
       "    .dataframe tbody tr th:only-of-type {\n",
       "        vertical-align: middle;\n",
       "    }\n",
       "\n",
       "    .dataframe tbody tr th {\n",
       "        vertical-align: top;\n",
       "    }\n",
       "\n",
       "    .dataframe thead th {\n",
       "        text-align: right;\n",
       "    }\n",
       "</style>\n",
       "<table border=\"1\" class=\"dataframe\">\n",
       "  <thead>\n",
       "    <tr style=\"text-align: right;\">\n",
       "      <th></th>\n",
       "      <th>count</th>\n",
       "      <th>mean</th>\n",
       "      <th>std</th>\n",
       "      <th>min</th>\n",
       "      <th>25%</th>\n",
       "      <th>50%</th>\n",
       "      <th>75%</th>\n",
       "      <th>max</th>\n",
       "    </tr>\n",
       "  </thead>\n",
       "  <tbody>\n",
       "    <tr>\n",
       "      <th>Age</th>\n",
       "      <td>754.0</td>\n",
       "      <td>54.905836</td>\n",
       "      <td>14.456066</td>\n",
       "      <td>30.0</td>\n",
       "      <td>43.00</td>\n",
       "      <td>55.000</td>\n",
       "      <td>67.00</td>\n",
       "      <td>79.0</td>\n",
       "    </tr>\n",
       "    <tr>\n",
       "      <th>Weight_kg</th>\n",
       "      <td>754.0</td>\n",
       "      <td>75.648939</td>\n",
       "      <td>11.728055</td>\n",
       "      <td>43.9</td>\n",
       "      <td>67.90</td>\n",
       "      <td>75.800</td>\n",
       "      <td>83.70</td>\n",
       "      <td>112.3</td>\n",
       "    </tr>\n",
       "    <tr>\n",
       "      <th>Pre_BP</th>\n",
       "      <td>754.0</td>\n",
       "      <td>160.007958</td>\n",
       "      <td>11.563552</td>\n",
       "      <td>140.0</td>\n",
       "      <td>150.00</td>\n",
       "      <td>160.000</td>\n",
       "      <td>170.00</td>\n",
       "      <td>179.0</td>\n",
       "    </tr>\n",
       "    <tr>\n",
       "      <th>Heart_Rate</th>\n",
       "      <td>754.0</td>\n",
       "      <td>79.632626</td>\n",
       "      <td>11.258831</td>\n",
       "      <td>60.0</td>\n",
       "      <td>70.00</td>\n",
       "      <td>79.500</td>\n",
       "      <td>89.00</td>\n",
       "      <td>99.0</td>\n",
       "    </tr>\n",
       "    <tr>\n",
       "      <th>Side_Effects_Score</th>\n",
       "      <td>754.0</td>\n",
       "      <td>2.003979</td>\n",
       "      <td>1.452656</td>\n",
       "      <td>0.0</td>\n",
       "      <td>1.00</td>\n",
       "      <td>2.000</td>\n",
       "      <td>3.00</td>\n",
       "      <td>7.0</td>\n",
       "    </tr>\n",
       "    <tr>\n",
       "      <th>Treatment_Duration_weeks</th>\n",
       "      <td>754.0</td>\n",
       "      <td>10.055703</td>\n",
       "      <td>1.402739</td>\n",
       "      <td>8.0</td>\n",
       "      <td>9.00</td>\n",
       "      <td>10.000</td>\n",
       "      <td>11.00</td>\n",
       "      <td>12.0</td>\n",
       "    </tr>\n",
       "    <tr>\n",
       "      <th>Adherence_Score</th>\n",
       "      <td>754.0</td>\n",
       "      <td>0.749297</td>\n",
       "      <td>0.141524</td>\n",
       "      <td>0.5</td>\n",
       "      <td>0.63</td>\n",
       "      <td>0.755</td>\n",
       "      <td>0.87</td>\n",
       "      <td>1.0</td>\n",
       "    </tr>\n",
       "    <tr>\n",
       "      <th>Post_BP</th>\n",
       "      <td>754.0</td>\n",
       "      <td>142.425729</td>\n",
       "      <td>12.899671</td>\n",
       "      <td>107.0</td>\n",
       "      <td>133.00</td>\n",
       "      <td>142.000</td>\n",
       "      <td>153.00</td>\n",
       "      <td>173.0</td>\n",
       "    </tr>\n",
       "  </tbody>\n",
       "</table>\n",
       "</div>"
      ],
      "text/plain": [
       "                          count        mean        std    min     25%  \\\n",
       "Age                       754.0   54.905836  14.456066   30.0   43.00   \n",
       "Weight_kg                 754.0   75.648939  11.728055   43.9   67.90   \n",
       "Pre_BP                    754.0  160.007958  11.563552  140.0  150.00   \n",
       "Heart_Rate                754.0   79.632626  11.258831   60.0   70.00   \n",
       "Side_Effects_Score        754.0    2.003979   1.452656    0.0    1.00   \n",
       "Treatment_Duration_weeks  754.0   10.055703   1.402739    8.0    9.00   \n",
       "Adherence_Score           754.0    0.749297   0.141524    0.5    0.63   \n",
       "Post_BP                   754.0  142.425729  12.899671  107.0  133.00   \n",
       "\n",
       "                              50%     75%    max  \n",
       "Age                        55.000   67.00   79.0  \n",
       "Weight_kg                  75.800   83.70  112.3  \n",
       "Pre_BP                    160.000  170.00  179.0  \n",
       "Heart_Rate                 79.500   89.00   99.0  \n",
       "Side_Effects_Score          2.000    3.00    7.0  \n",
       "Treatment_Duration_weeks   10.000   11.00   12.0  \n",
       "Adherence_Score             0.755    0.87    1.0  \n",
       "Post_BP                   142.000  153.00  173.0  "
      ]
     },
     "execution_count": 23,
     "metadata": {},
     "output_type": "execute_result"
    }
   ],
   "source": [
    "df.describe().T"
   ]
  },
  {
   "cell_type": "code",
   "execution_count": 24,
   "id": "19b928dc-4761-4acd-bc09-71d5400b726f",
   "metadata": {},
   "outputs": [],
   "source": [
    "import dtale"
   ]
  },
  {
   "cell_type": "code",
   "execution_count": 25,
   "id": "b2a7d7f5-f4b5-4d99-ae8d-5a2ae9a49b46",
   "metadata": {},
   "outputs": [
    {
     "data": {
      "text/html": [
       "\n",
       "        <iframe\n",
       "            width=\"100%\"\n",
       "            height=\"475\"\n",
       "            src=\"http://localhost:40000/dtale/iframe/1\"\n",
       "            frameborder=\"0\"\n",
       "            allowfullscreen\n",
       "            \n",
       "        ></iframe>\n",
       "        "
      ],
      "text/plain": [
       "<IPython.lib.display.IFrame at 0x129088950>"
      ]
     },
     "metadata": {},
     "output_type": "display_data"
    },
    {
     "data": {
      "text/plain": []
     },
     "execution_count": 25,
     "metadata": {},
     "output_type": "execute_result"
    }
   ],
   "source": [
    "dtale.show(df)"
   ]
  },
  {
   "cell_type": "code",
   "execution_count": 26,
   "id": "5f32c593-d156-4cc3-8b3a-af22ea3f52c3",
   "metadata": {},
   "outputs": [],
   "source": [
    "df['BP_reduction'] = df['Pre_BP'] - df['Post_BP']"
   ]
  },
  {
   "cell_type": "code",
   "execution_count": 27,
   "id": "b3fd098d-3f89-461f-b020-9704c7f930fb",
   "metadata": {},
   "outputs": [
    {
     "data": {
      "text/html": [
       "<div>\n",
       "<style scoped>\n",
       "    .dataframe tbody tr th:only-of-type {\n",
       "        vertical-align: middle;\n",
       "    }\n",
       "\n",
       "    .dataframe tbody tr th {\n",
       "        vertical-align: top;\n",
       "    }\n",
       "\n",
       "    .dataframe thead th {\n",
       "        text-align: right;\n",
       "    }\n",
       "</style>\n",
       "<table border=\"1\" class=\"dataframe\">\n",
       "  <thead>\n",
       "    <tr style=\"text-align: right;\">\n",
       "      <th></th>\n",
       "      <th>count</th>\n",
       "      <th>mean</th>\n",
       "      <th>std</th>\n",
       "      <th>min</th>\n",
       "      <th>25%</th>\n",
       "      <th>50%</th>\n",
       "      <th>75%</th>\n",
       "      <th>max</th>\n",
       "    </tr>\n",
       "  </thead>\n",
       "  <tbody>\n",
       "    <tr>\n",
       "      <th>Age</th>\n",
       "      <td>754.0</td>\n",
       "      <td>54.905836</td>\n",
       "      <td>14.456066</td>\n",
       "      <td>30.0</td>\n",
       "      <td>43.00</td>\n",
       "      <td>55.000</td>\n",
       "      <td>67.00</td>\n",
       "      <td>79.0</td>\n",
       "    </tr>\n",
       "    <tr>\n",
       "      <th>Weight_kg</th>\n",
       "      <td>754.0</td>\n",
       "      <td>75.648939</td>\n",
       "      <td>11.728055</td>\n",
       "      <td>43.9</td>\n",
       "      <td>67.90</td>\n",
       "      <td>75.800</td>\n",
       "      <td>83.70</td>\n",
       "      <td>112.3</td>\n",
       "    </tr>\n",
       "    <tr>\n",
       "      <th>Pre_BP</th>\n",
       "      <td>754.0</td>\n",
       "      <td>160.007958</td>\n",
       "      <td>11.563552</td>\n",
       "      <td>140.0</td>\n",
       "      <td>150.00</td>\n",
       "      <td>160.000</td>\n",
       "      <td>170.00</td>\n",
       "      <td>179.0</td>\n",
       "    </tr>\n",
       "    <tr>\n",
       "      <th>Heart_Rate</th>\n",
       "      <td>754.0</td>\n",
       "      <td>79.632626</td>\n",
       "      <td>11.258831</td>\n",
       "      <td>60.0</td>\n",
       "      <td>70.00</td>\n",
       "      <td>79.500</td>\n",
       "      <td>89.00</td>\n",
       "      <td>99.0</td>\n",
       "    </tr>\n",
       "    <tr>\n",
       "      <th>Side_Effects_Score</th>\n",
       "      <td>754.0</td>\n",
       "      <td>2.003979</td>\n",
       "      <td>1.452656</td>\n",
       "      <td>0.0</td>\n",
       "      <td>1.00</td>\n",
       "      <td>2.000</td>\n",
       "      <td>3.00</td>\n",
       "      <td>7.0</td>\n",
       "    </tr>\n",
       "    <tr>\n",
       "      <th>Treatment_Duration_weeks</th>\n",
       "      <td>754.0</td>\n",
       "      <td>10.055703</td>\n",
       "      <td>1.402739</td>\n",
       "      <td>8.0</td>\n",
       "      <td>9.00</td>\n",
       "      <td>10.000</td>\n",
       "      <td>11.00</td>\n",
       "      <td>12.0</td>\n",
       "    </tr>\n",
       "    <tr>\n",
       "      <th>Adherence_Score</th>\n",
       "      <td>754.0</td>\n",
       "      <td>0.749297</td>\n",
       "      <td>0.141524</td>\n",
       "      <td>0.5</td>\n",
       "      <td>0.63</td>\n",
       "      <td>0.755</td>\n",
       "      <td>0.87</td>\n",
       "      <td>1.0</td>\n",
       "    </tr>\n",
       "    <tr>\n",
       "      <th>Post_BP</th>\n",
       "      <td>754.0</td>\n",
       "      <td>142.425729</td>\n",
       "      <td>12.899671</td>\n",
       "      <td>107.0</td>\n",
       "      <td>133.00</td>\n",
       "      <td>142.000</td>\n",
       "      <td>153.00</td>\n",
       "      <td>173.0</td>\n",
       "    </tr>\n",
       "    <tr>\n",
       "      <th>BP_reduction</th>\n",
       "      <td>754.0</td>\n",
       "      <td>17.582228</td>\n",
       "      <td>5.089557</td>\n",
       "      <td>1.0</td>\n",
       "      <td>14.00</td>\n",
       "      <td>18.000</td>\n",
       "      <td>21.00</td>\n",
       "      <td>40.0</td>\n",
       "    </tr>\n",
       "  </tbody>\n",
       "</table>\n",
       "</div>"
      ],
      "text/plain": [
       "                          count        mean        std    min     25%  \\\n",
       "Age                       754.0   54.905836  14.456066   30.0   43.00   \n",
       "Weight_kg                 754.0   75.648939  11.728055   43.9   67.90   \n",
       "Pre_BP                    754.0  160.007958  11.563552  140.0  150.00   \n",
       "Heart_Rate                754.0   79.632626  11.258831   60.0   70.00   \n",
       "Side_Effects_Score        754.0    2.003979   1.452656    0.0    1.00   \n",
       "Treatment_Duration_weeks  754.0   10.055703   1.402739    8.0    9.00   \n",
       "Adherence_Score           754.0    0.749297   0.141524    0.5    0.63   \n",
       "Post_BP                   754.0  142.425729  12.899671  107.0  133.00   \n",
       "BP_reduction              754.0   17.582228   5.089557    1.0   14.00   \n",
       "\n",
       "                              50%     75%    max  \n",
       "Age                        55.000   67.00   79.0  \n",
       "Weight_kg                  75.800   83.70  112.3  \n",
       "Pre_BP                    160.000  170.00  179.0  \n",
       "Heart_Rate                 79.500   89.00   99.0  \n",
       "Side_Effects_Score          2.000    3.00    7.0  \n",
       "Treatment_Duration_weeks   10.000   11.00   12.0  \n",
       "Adherence_Score             0.755    0.87    1.0  \n",
       "Post_BP                   142.000  153.00  173.0  \n",
       "BP_reduction               18.000   21.00   40.0  "
      ]
     },
     "execution_count": 27,
     "metadata": {},
     "output_type": "execute_result"
    }
   ],
   "source": [
    "df.describe().T"
   ]
  },
  {
   "cell_type": "code",
   "execution_count": 28,
   "id": "3c8150ac-5b9a-490c-97e4-8aa44dbccfc8",
   "metadata": {},
   "outputs": [],
   "source": [
    "# Ho: The average BP_Reduction = 15\n",
    "# H1: The average of BP_reduction ≠ 15"
   ]
  },
  {
   "cell_type": "code",
   "execution_count": 29,
   "id": "362731f6-6c02-4b54-95f7-bb2118d834df",
   "metadata": {},
   "outputs": [],
   "source": [
    "# 1. One-sample t-test: BP Reduction ≠ 15\n",
    "alpha = 0.05\n",
    "def one_sample_ttest(df, col, test_value):\n",
    "    test = stats.ttest_1samp(df[col], popmean=test_value)\n",
    "    p_value = round(test[1], 3)\n",
    "\n",
    "    if p_value < alpha:\n",
    "        print(f'Ho is rejected, Hence, the mean {col} is different from {test_value}')\n",
    "    else:\n",
    "         print(f'Ho cannot be rejected, Hence, the mean {col} is equal to {test_value}')"
   ]
  },
  {
   "cell_type": "code",
   "execution_count": 30,
   "id": "d6821102-6b3d-4d16-919b-908453b97023",
   "metadata": {},
   "outputs": [
    {
     "name": "stdout",
     "output_type": "stream",
     "text": [
      "Ho is rejected, Hence, the mean BP_reduction is different from 15\n"
     ]
    }
   ],
   "source": [
    "one_sample_ttest(df, 'BP_reduction', 15)"
   ]
  },
  {
   "cell_type": "code",
   "execution_count": 31,
   "id": "744e0244-28c3-4633-8eac-6dfd06dc90d2",
   "metadata": {},
   "outputs": [
    {
     "name": "stdout",
     "output_type": "stream",
     "text": [
      "Ho is rejected, Hence, the mean Adherence_Score is different from 0.5\n"
     ]
    }
   ],
   "source": [
    "# Ho: The Adherence_score = 0.5\n",
    "# H1: The average of Adherence_score ≠ 0.5\n",
    "one_sample_ttest(df, 'Adherence_Score', 0.5)"
   ]
  },
  {
   "cell_type": "code",
   "execution_count": null,
   "id": "c4408e01-ebc8-4281-ba2c-3ff2380c616d",
   "metadata": {},
   "outputs": [],
   "source": [
    "df['Sex'].unique()[0]"
   ]
  },
  {
   "cell_type": "code",
   "execution_count": 35,
   "id": "e8201877-eb3b-42b4-82cc-f8d711454782",
   "metadata": {},
   "outputs": [],
   "source": [
    "# 1. Independent Sample t-test\n",
    "alpha = 0.05\n",
    "def independent_sample_ttest(df, col1, col2):\n",
    "    test = stats.ttest_ind(\n",
    "        df[df[col1] == df[col1].unique()[0]][col2],\n",
    "        df[df[col1] == df[col1].unique()[1]][col2]\n",
    "    )\n",
    "    p_value = round(test[1], 3)\n",
    "    print(f'p-value: {p_value}')\n",
    "    if p_value < alpha:\n",
    "        print(f'Ho is rejected, Hence, the mean {col2} is different across {col1} categories')\n",
    "    else:\n",
    "         print(f'Ho cannot be rejected, Hence, the mean {col2} is not different across {col1} categories')"
   ]
  },
  {
   "cell_type": "code",
   "execution_count": 37,
   "id": "b8715d93-94bf-4096-80b3-45f69e8c7962",
   "metadata": {},
   "outputs": [
    {
     "name": "stdout",
     "output_type": "stream",
     "text": [
      "p-value: 0.084\n",
      "Ho cannot be rejected, Hence, the mean BP_reduction is not different across Sex categories\n"
     ]
    }
   ],
   "source": [
    "# Ho: The mean BP_reduction for male and female is equal\n",
    "# H1: The mean BP_reduction for male and female is not equal\n",
    "independent_sample_ttest(df, 'Sex', 'BP_reduction')"
   ]
  },
  {
   "cell_type": "code",
   "execution_count": 39,
   "id": "e4be1e37-2687-43ea-aa45-ce08cfbfc74e",
   "metadata": {},
   "outputs": [
    {
     "name": "stdout",
     "output_type": "stream",
     "text": [
      "p-value: 0.817\n",
      "Ho cannot be rejected, Hence, the mean Weight_kg is not different across Sex categories\n"
     ]
    }
   ],
   "source": [
    "# Ho: The mean weight for male and female is equal\n",
    "# H1: The mean weight for male and female is not equal\n",
    "independent_sample_ttest(df, 'Sex', 'Weight_kg')"
   ]
  },
  {
   "cell_type": "code",
   "execution_count": 43,
   "id": "36baf88a-838d-4d23-b22f-a23ed8d9408b",
   "metadata": {},
   "outputs": [],
   "source": [
    "alpha = 0.05\n",
    "def paired_t_test(df, col1, col2):\n",
    "    test = stats.ttest_rel(df[col1], df[col2])\n",
    "    p_value = round(test[1], 3)\n",
    "\n",
    "    print(p_value)\n",
    "    if p_value < alpha:\n",
    "        print(f'Ho is rejected, Hence, the mean {col1} and the mean {col2} is different, the drug is effective')\n",
    "    else:\n",
    "         print(f'Ho cannot be rejected, Hence, the mean {col1} and the mean {col2} is not different, the drug is not effective')"
   ]
  },
  {
   "cell_type": "code",
   "execution_count": 45,
   "id": "4b9f694d-2371-4dee-8031-9b2384af04d5",
   "metadata": {},
   "outputs": [
    {
     "name": "stdout",
     "output_type": "stream",
     "text": [
      "0.0\n",
      "Ho is rejected, Hence, the mean Pre_BP and the mean Post_BP is different, the drug is effective\n"
     ]
    }
   ],
   "source": [
    "# Ho: The mean BP of patients before and after taking drugs is equal\n",
    "# H1: The mean BP of patients before and after taking drugs is not equal\n",
    "paired_t_test(df, 'Pre_BP', 'Post_BP')"
   ]
  },
  {
   "cell_type": "code",
   "execution_count": 93,
   "id": "4b97de86-66a3-4f77-8f0e-8f5ebc75db42",
   "metadata": {},
   "outputs": [
    {
     "data": {
      "text/plain": [
       "array(['South America', 'North America', 'Europe', 'Africa', 'Asia'],\n",
       "      dtype=object)"
      ]
     },
     "execution_count": 93,
     "metadata": {},
     "output_type": "execute_result"
    }
   ],
   "source": [
    "df['Region'].unique()"
   ]
  },
  {
   "cell_type": "code",
   "execution_count": 97,
   "id": "077c3039-d330-4505-8738-c4fb937f3d26",
   "metadata": {},
   "outputs": [],
   "source": [
    "from statsmodels.formula.api import ols\n",
    "import statsmodels.api as sm"
   ]
  },
  {
   "cell_type": "code",
   "execution_count": 103,
   "id": "2eb94a20-6cb5-46af-a549-eccb6d4ba643",
   "metadata": {
    "scrolled": true
   },
   "outputs": [
    {
     "data": {
      "text/html": [
       "<div>\n",
       "<style scoped>\n",
       "    .dataframe tbody tr th:only-of-type {\n",
       "        vertical-align: middle;\n",
       "    }\n",
       "\n",
       "    .dataframe tbody tr th {\n",
       "        vertical-align: top;\n",
       "    }\n",
       "\n",
       "    .dataframe thead th {\n",
       "        text-align: right;\n",
       "    }\n",
       "</style>\n",
       "<table border=\"1\" class=\"dataframe\">\n",
       "  <thead>\n",
       "    <tr style=\"text-align: right;\">\n",
       "      <th></th>\n",
       "      <th>df</th>\n",
       "      <th>sum_sq</th>\n",
       "      <th>mean_sq</th>\n",
       "      <th>F</th>\n",
       "      <th>PR(&gt;F)</th>\n",
       "    </tr>\n",
       "  </thead>\n",
       "  <tbody>\n",
       "    <tr>\n",
       "      <th>Drug_Brand</th>\n",
       "      <td>2.0</td>\n",
       "      <td>2948.210408</td>\n",
       "      <td>1474.105204</td>\n",
       "      <td>66.862367</td>\n",
       "      <td>1.889422e-27</td>\n",
       "    </tr>\n",
       "    <tr>\n",
       "      <th>Residual</th>\n",
       "      <td>751.0</td>\n",
       "      <td>16557.191449</td>\n",
       "      <td>22.046859</td>\n",
       "      <td>NaN</td>\n",
       "      <td>NaN</td>\n",
       "    </tr>\n",
       "  </tbody>\n",
       "</table>\n",
       "</div>"
      ],
      "text/plain": [
       "               df        sum_sq      mean_sq          F        PR(>F)\n",
       "Drug_Brand    2.0   2948.210408  1474.105204  66.862367  1.889422e-27\n",
       "Residual    751.0  16557.191449    22.046859        NaN           NaN"
      ]
     },
     "execution_count": 103,
     "metadata": {},
     "output_type": "execute_result"
    }
   ],
   "source": [
    "# 7. ANOVA: BP Reduction by Drug\n",
    "anova1 = ols('BP_reduction ~ (Drug_Brand)', data=df).fit()\n",
    "sm.stats.anova_lm(anova1, typ=1)"
   ]
  },
  {
   "cell_type": "code",
   "execution_count": 105,
   "id": "13485c6d-032b-49f4-8768-ad412cfd3b59",
   "metadata": {},
   "outputs": [],
   "source": [
    "# Ho: The mean bp_reduction across the three drugs are equal\n",
    "# h1: The mean bp_reduction across the three drugs are different"
   ]
  },
  {
   "cell_type": "code",
   "execution_count": 107,
   "id": "ecba9730-fb86-4acd-a183-6021b4093712",
   "metadata": {},
   "outputs": [
    {
     "data": {
      "text/plain": [
       "array(['B', 'A', 'C'], dtype=object)"
      ]
     },
     "execution_count": 107,
     "metadata": {},
     "output_type": "execute_result"
    }
   ],
   "source": [
    "df['Drug_Brand'].unique()"
   ]
  },
  {
   "cell_type": "code",
   "execution_count": 109,
   "id": "a052a69b-c644-469e-9c7e-b99b7a6650e0",
   "metadata": {},
   "outputs": [],
   "source": [
    "#Tuckey test\n",
    "from statsmodels.stats.multicomp import pairwise_tukeyhsd\n",
    "\n",
    "# Perform Tukey's HSD\n",
    "tukey = pairwise_tukeyhsd(endog=df['BP_reduction'],  # dependent variable, numeric   \n",
    "                          groups=df['Drug_Brand'],   # independent variable, categorical   \n",
    "                          alpha=0.05)"
   ]
  },
  {
   "cell_type": "code",
   "execution_count": 111,
   "id": "d6d49e44-e617-4aa5-b7aa-506b9c23ee43",
   "metadata": {},
   "outputs": [
    {
     "name": "stdout",
     "output_type": "stream",
     "text": [
      "Multiple Comparison of Means - Tukey HSD, FWER=0.05\n",
      "==================================================\n",
      "group1 group2 meandiff p-adj  lower  upper  reject\n",
      "--------------------------------------------------\n",
      "     A      B   3.0717    0.0 2.0819 4.0614   True\n",
      "     A      C    4.655    0.0 3.6921  5.618   True\n",
      "     B      C   1.5834 0.0007 0.5786 2.5882   True\n",
      "--------------------------------------------------\n"
     ]
    }
   ],
   "source": [
    "print(tukey)"
   ]
  },
  {
   "cell_type": "code",
   "execution_count": 113,
   "id": "611a2076-407d-45b9-aa7d-2433bc4fd907",
   "metadata": {
    "scrolled": true
   },
   "outputs": [
    {
     "data": {
      "image/png": "[encoded data removed]",
      "text/plain": [
       "<Figure size 1000x600 with 1 Axes>"
      ]
     },
     "metadata": {},
     "output_type": "display_data"
    }
   ],
   "source": [
    "#Tukey plot\n",
    "tukey.plot_simultaneous()\n",
    "plt.title('Tukey HSD - BP Reduction by Drug Brand')\n",
    "plt.xlabel('Mean BP Reduction')\n",
    "plt.show()"
   ]
  },
  {
   "cell_type": "code",
   "execution_count": 221,
   "id": "50454469-608c-43e8-83cb-a66c64ee4c51",
   "metadata": {},
   "outputs": [],
   "source": [
    "# 7. ANOVA: BP Reduction by Region\n",
    "anova1 = ols('Heart_Rate ~ (Sex)', data=df).fit()\n",
    "anova_table = sm.stats.anova_lm(anova1, typ=1)"
   ]
  },
  {
   "cell_type": "code",
   "execution_count": 223,
   "id": "cd15ce47-5f0d-4303-a238-95561dda517e",
   "metadata": {},
   "outputs": [],
   "source": [
    "tukey = pairwise_tukeyhsd(endog=df['Heart_Rate'],  # dependent variable, numeric   \n",
    "                          groups=df['Sex'],   # independent variable, categorical   \n",
    "                          alpha=0.05)"
   ]
  },
  {
   "cell_type": "code",
   "execution_count": 225,
   "id": "6f669c14-2670-48c9-9e59-9303297a27ba",
   "metadata": {},
   "outputs": [
    {
     "data": {
      "text/html": [
       "<div>\n",
       "<style scoped>\n",
       "    .dataframe tbody tr th:only-of-type {\n",
       "        vertical-align: middle;\n",
       "    }\n",
       "\n",
       "    .dataframe tbody tr th {\n",
       "        vertical-align: top;\n",
       "    }\n",
       "\n",
       "    .dataframe thead th {\n",
       "        text-align: right;\n",
       "    }\n",
       "</style>\n",
       "<table border=\"1\" class=\"dataframe\">\n",
       "  <thead>\n",
       "    <tr style=\"text-align: right;\">\n",
       "      <th></th>\n",
       "      <th>df</th>\n",
       "      <th>sum_sq</th>\n",
       "      <th>mean_sq</th>\n",
       "      <th>F</th>\n",
       "      <th>PR(&gt;F)</th>\n",
       "    </tr>\n",
       "  </thead>\n",
       "  <tbody>\n",
       "    <tr>\n",
       "      <th>Sex</th>\n",
       "      <td>1.0</td>\n",
       "      <td>61.963920</td>\n",
       "      <td>61.963920</td>\n",
       "      <td>0.488492</td>\n",
       "      <td>0.484817</td>\n",
       "    </tr>\n",
       "    <tr>\n",
       "      <th>Residual</th>\n",
       "      <td>752.0</td>\n",
       "      <td>95389.273481</td>\n",
       "      <td>126.847438</td>\n",
       "      <td>NaN</td>\n",
       "      <td>NaN</td>\n",
       "    </tr>\n",
       "  </tbody>\n",
       "</table>\n",
       "</div>"
      ],
      "text/plain": [
       "             df        sum_sq     mean_sq         F    PR(>F)\n",
       "Sex         1.0     61.963920   61.963920  0.488492  0.484817\n",
       "Residual  752.0  95389.273481  126.847438       NaN       NaN"
      ]
     },
     "execution_count": 225,
     "metadata": {},
     "output_type": "execute_result"
    }
   ],
   "source": [
    "anova_table"
   ]
  },
  {
   "cell_type": "code",
   "execution_count": 227,
   "id": "36a41147-7964-44f1-a027-17f7321dd119",
   "metadata": {},
   "outputs": [
    {
     "name": "stdout",
     "output_type": "stream",
     "text": [
      "Multiple Comparison of Means - Tukey HSD, FWER=0.05\n",
      "===================================================\n",
      "group1 group2 meandiff p-adj   lower  upper  reject\n",
      "---------------------------------------------------\n",
      "     F      M  -0.5738 0.4848 -2.1855 1.0379  False\n",
      "---------------------------------------------------\n"
     ]
    }
   ],
   "source": [
    "print(tukey)"
   ]
  },
  {
   "cell_type": "code",
   "execution_count": 229,
   "id": "f5f21ad6-c133-400f-8dec-e8931ebe4038",
   "metadata": {},
   "outputs": [],
   "source": [
    "# def anova(df, col1, col2):\n",
    "#     anova1 = ols('col1 ~ (col2)', data=df).fit()\n",
    "#     anova_table = sm.stats.anova_lm(anova1, typ=1)\n",
    "\n",
    "#     # anova1 = ols('BP_reduction ~ (Region)', data=df).fit()\n",
    "\n",
    "#     p_value = round(anova_table['PR(>F)'][0], 3)\n",
    "\n",
    "#     return anova_table\n",
    "#     print(f\"The p-value os {p_value}\")\n",
    "#     if p_value < 0.05:\n",
    "#         print(f'The mean {col1} across the groups of {col2} differs significantly')\n",
    "\n",
    "#         tukey = pairwise_tukeyhsd(endog=df[col1],  # dependent variable, numeric   \n",
    "#                           groups=df[col2],   # independent variable, categorical   \n",
    "#                           alpha=0.05)\n",
    "        \n",
    "#             #Tukey plot\n",
    "#         tukey.plot_simultaneous()\n",
    "#         plt.title(f'Tukey HSD - {col1} by {col2}')\n",
    "#         plt.xlabel(f'Mean {col1}')\n",
    "#         plt.show()\n",
    "#     else:\n",
    "#         print(f'The mean {col1} across the groups of {col2} is equal')"
   ]
  },
  {
   "cell_type": "code",
   "execution_count": 193,
   "id": "7a35225e-b6c3-4898-ab59-898f496ef631",
   "metadata": {},
   "outputs": [
    {
     "data": {
      "text/plain": [
       "0       B\n",
       "2       B\n",
       "3       A\n",
       "4       A\n",
       "5       B\n",
       "       ..\n",
       "996     A\n",
       "997     A\n",
       "998     A\n",
       "999     C\n",
       "1001    C\n",
       "Name: Drug_Brand, Length: 754, dtype: object"
      ]
     },
     "execution_count": 193,
     "metadata": {},
     "output_type": "execute_result"
    }
   ],
   "source": [
    "df['Drug_Brand']"
   ]
  },
  {
   "cell_type": "code",
   "execution_count": 155,
   "id": "2b06dc4a-0376-41d3-9f58-5d3cc87f143d",
   "metadata": {
    "scrolled": true
   },
   "outputs": [
    {
     "name": "stderr",
     "output_type": "stream",
     "text": [
      "/var/folders/l6/fw3m61xn11gc1cfcswqttvxr0000gn/T/ipykernel_40407/572601143.py:1: FutureWarning:\n",
      "\n",
      "Series.__getitem__ treating keys as positions is deprecated. In a future version, integer keys will always be treated as labels (consistent with DataFrame behavior). To access a value by position, use `ser.iloc[pos]`\n",
      "\n"
     ]
    },
    {
     "data": {
      "text/plain": [
       "0.782"
      ]
     },
     "execution_count": 155,
     "metadata": {},
     "output_type": "execute_result"
    }
   ],
   "source": [
    "round(anova_table['PR(>F)'][0], 3)"
   ]
  },
  {
   "cell_type": "code",
   "execution_count": 247,
   "id": "f37b5da8-b0ee-4313-ac0d-c516c00a598d",
   "metadata": {},
   "outputs": [
    {
     "data": {
      "text/plain": [
       "PearsonRResult(statistic=-0.04719019058920295, pvalue=0.19553778285907117)"
      ]
     },
     "execution_count": 247,
     "metadata": {},
     "output_type": "execute_result"
    }
   ],
   "source": [
    "# 13. Correlation: Age vs BP Reduction\n",
    "stats.pearsonr(df['Pre_BP'], df['Post_BP'])"
   ]
  },
  {
   "cell_type": "code",
   "execution_count": 235,
   "id": "bf82e1e8-b144-4629-9d03-07b4064afc9b",
   "metadata": {},
   "outputs": [
    {
     "data": {
      "text/plain": [
       "<Axes: >"
      ]
     },
     "execution_count": 235,
     "metadata": {},
     "output_type": "execute_result"
    },
    {
     "data": {
      "image/png": "[encoded data removed]",
      "text/plain": [
       "<Figure size 1000x1000 with 2 Axes>"
      ]
     },
     "metadata": {},
     "output_type": "display_data"
    }
   ],
   "source": [
    "corr = df.select_dtypes('number').corr()\n",
    "plt.figure(figsize  = (10,10))\n",
    "sns.heatmap(corr, annot = True)"
   ]
  }
 ],
 "metadata": {
  "kernelspec": {
   "display_name": "Python 3 (ipykernel)",
   "language": "python",
   "name": "python3"
  },
  "language_info": {
   "codemirror_mode": {
    "name": "ipython",
    "version": 3
   },
   "file_extension": ".py",
   "mimetype": "text/x-python",
   "name": "python",
   "nbconvert_exporter": "python",
   "pygments_lexer": "ipython3",
   "version": "3.12.7"
  }
 },
 "nbformat": 4,
 "nbformat_minor": 5
}
